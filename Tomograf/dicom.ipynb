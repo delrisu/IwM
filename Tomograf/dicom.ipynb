{
 "cells": [
  {
   "cell_type": "code",
   "execution_count": 1,
   "metadata": {},
   "outputs": [],
   "source": [
    "import pydicom\n",
    "import matplotlib.pyplot as plt\n",
    "import numpy as np\n",
    "from pydicom.uid import ImplicitVRLittleEndian\n",
    "from pydicom.dataset import Dataset, FileDataset\n",
    "from pydicom.data import get_testdata_files\n",
    "import datetime, time\n",
    "import cv2"
   ]
  },
  {
   "cell_type": "code",
   "execution_count": 2,
   "metadata": {},
   "outputs": [],
   "source": [
    "def load_dicom(filename=\"test.dcm\"):\n",
    "    file = pydicom.dcmread(path+filename)\n",
    "\n",
    "    if(file.PatientName is not None):\n",
    "        print(\"Imie pacjenta: \",file.PatientName)\n",
    "    if(file.ImageComments is not None):\n",
    "        print(\"Komentarze do zdjęcia: \",file.ImageComments) \n",
    "    if(file.StudyDate is not None):\n",
    "        print(\"Data badań: \",file.StudyDate)\n",
    "    plt.imshow(file.pixel_array,cmap='gray')\n",
    "    plt.show()"
   ]
  },
  {
   "cell_type": "code",
   "execution_count": 3,
   "metadata": {},
   "outputs": [],
   "source": [
    "def save_dicom(patientName,imageComments,studyDate,image,filename=\"test.dcm\"): \n",
    "    test_data = get_testdata_files(\"CT_small.dcm\")[0]\n",
    "    ds = pydicom.dcmread(test_data)    \n",
    "    if(patientName is not None):\n",
    "        ds.PatientName = patientName\n",
    "    if(imageComments is not None):\n",
    "        ds.ImageComments = imageComments\n",
    "    if(studyDate is not None):\n",
    "        ds.StudyDate = studyDate\n",
    "    #normalizacja wektora na wartosci int z przedzialu 0-1024\n",
    "    result = image/np.max(image) * 1024\n",
    "    np.round(result, decimals=0, out = result)\n",
    "    result = result.astype('int16')\n",
    "    #zmiana parametrow obrazu dicomu\n",
    "    ds.Rows = result.shape[0]\n",
    "    ds.Columns = result.shape[1]\n",
    "    #zapisanie obrazu jako tablicy byte'ow\n",
    "    ds.PixelData = result.tobytes()\n",
    "    ds.save_as(filename+\".dcm\")\n",
    "    print(\"File saved.\")"
   ]
  },
  {
   "cell_type": "code",
   "execution_count": 4,
   "metadata": {},
   "outputs": [
    {
     "name": "stdout",
     "output_type": "stream",
     "text": [
      "File saved.\n"
     ]
    }
   ],
   "source": [
    "save_dicom(\"Piotr Wietczak\",\"Dobry kolega\",\"20-02-2020\",cv2.imread(\"test2.png\",0),\"testowy\")"
   ]
  },
  {
   "cell_type": "code",
   "execution_count": 5,
   "metadata": {},
   "outputs": [
    {
     "name": "stdout",
     "output_type": "stream",
     "text": [
      "Imie pacjenta:  Piotr Wietczak\n",
      "Komentarze do zdjęcia:  Dobry kolega\n",
      "Data badań:  20-02-2020\n"
     ]
    },
    {
     "data": {
      "image/png": "[encoded data removed]",
      "text/plain": [
       "<Figure size 432x288 with 1 Axes>"
      ]
     },
     "metadata": {
      "needs_background": "light"
     },
     "output_type": "display_data"
    }
   ],
   "source": [
    "load_dicom(\"testowy.dcm\")"
   ]
  },
  {
   "cell_type": "code",
   "execution_count": null,
   "metadata": {},
   "outputs": [],
   "source": []
  }
 ],
 "metadata": {
  "kernelspec": {
   "display_name": "Python 3",
   "language": "python",
   "name": "python3"
  },
  "language_info": {
   "codemirror_mode": {
    "name": "ipython",
    "version": 3
   },
   "file_extension": ".py",
   "mimetype": "text/x-python",
   "name": "python",
   "nbconvert_exporter": "python",
   "pygments_lexer": "ipython3",
   "version": "3.7.3"
  }
 },
 "nbformat": 4,
 "nbformat_minor": 2
}